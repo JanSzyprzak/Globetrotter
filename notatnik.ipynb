{
 "cells": [
  {
   "cell_type": "code",
   "execution_count": null,
   "metadata": {},
   "outputs": [],
   "source": [
    " {% if v == request.path %}\n",
    "{% elif v != request.path %}\n",
    "{% endif %}"
   ]
  },
  {
   "cell_type": "code",
   "execution_count": 1,
   "metadata": {},
   "outputs": [
    {
     "ename": "AttributeError",
     "evalue": "'function' object has no attribute 'items'",
     "output_type": "error",
     "traceback": [
      "\u001b[0;31m---------------------------------------------------------------------------\u001b[0m",
      "\u001b[0;31mAttributeError\u001b[0m                            Traceback (most recent call last)",
      "Cell \u001b[0;32mIn[1], line 2\u001b[0m\n\u001b[1;32m      1\u001b[0m \u001b[39mfrom\u001b[39;00m \u001b[39minfos\u001b[39;00m\u001b[39m.\u001b[39;00m\u001b[39mcontext_processors\u001b[39;00m \u001b[39mimport\u001b[39;00m menu_dict\n\u001b[0;32m----> 2\u001b[0m \u001b[39mfor\u001b[39;00m k, v \u001b[39min\u001b[39;00m menu_dict\u001b[39m.\u001b[39;49mitems():\n\u001b[1;32m      3\u001b[0m     \u001b[39mprint\u001b[39m(k, v)\n",
      "\u001b[0;31mAttributeError\u001b[0m: 'function' object has no attribute 'items'"
     ]
    }
   ],
   "source": [
    "from infos.context_processors import menu_dict\n",
    "for k, v in menu_dict().items():\n",
    "    print(k, v)"
   ]
  }
 ],
 "metadata": {
  "kernelspec": {
   "display_name": "venv",
   "language": "python",
   "name": "python3"
  },
  "language_info": {
   "codemirror_mode": {
    "name": "ipython",
    "version": 3
   },
   "file_extension": ".py",
   "mimetype": "text/x-python",
   "name": "python",
   "nbconvert_exporter": "python",
   "pygments_lexer": "ipython3",
   "version": "3.10.6"
  },
  "orig_nbformat": 4
 },
 "nbformat": 4,
 "nbformat_minor": 2
}
